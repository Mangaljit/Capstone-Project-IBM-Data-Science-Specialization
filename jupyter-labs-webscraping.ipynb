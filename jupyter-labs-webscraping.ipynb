{
 "cells": [
  {
   "cell_type": "markdown",
   "metadata": {},
   "source": [
    "<center>\n",
    "    <img src=\"https://gitlab.com/ibm/skills-network/courses/placeholder101/-/raw/master/labs/module%201/images/IDSNlogo.png\" width=\"300\" alt=\"cognitiveclass.ai logo\"  />\n",
    "</center>\n"
   ]
  },
  {
   "cell_type": "markdown",
   "metadata": {
    "tags": []
   },
   "source": [
    "# **Space X  Falcon 9 First Stage Landing Prediction**\n"
   ]
  },
  {
   "cell_type": "markdown",
   "metadata": {
    "tags": []
   },
   "source": [
    "## Web scraping Falcon 9 and Falcon Heavy Launches Records from Wikipedia\n"
   ]
  },
  {
   "cell_type": "markdown",
   "metadata": {},
   "source": [
    "Estimated time needed: **40** minutes\n"
   ]
  },
  {
   "cell_type": "markdown",
   "metadata": {},
   "source": [
    "In this lab, you will be performing web scraping to collect Falcon 9 historical launch records from a Wikipedia page titled `List of Falcon 9 and Falcon Heavy launches`\n",
    "\n",
    "[https://en.wikipedia.org/wiki/List_of_Falcon\\_9\\_and_Falcon_Heavy_launches](https://en.wikipedia.org/wiki/List_of_Falcon\\_9\\_and_Falcon_Heavy_launches?utm_medium=Exinfluencer&utm_source=Exinfluencer&utm_content=000026UJ&utm_term=10006555&utm_id=NA-SkillsNetwork-Channel-SkillsNetworkCoursesIBMDS0321ENSkillsNetwork26802033-2021-01-01)\n"
   ]
  },
  {
   "cell_type": "markdown",
   "metadata": {},
   "source": [
    "![](https://cf-courses-data.s3.us.cloud-object-storage.appdomain.cloud/IBM-DS0321EN-SkillsNetwork/labs/module\\_1\\_L2/images/Falcon9\\_rocket_family.svg)\n"
   ]
  },
  {
   "cell_type": "markdown",
   "metadata": {},
   "source": [
    "Falcon 9 first stage will land successfully\n"
   ]
  },
  {
   "cell_type": "markdown",
   "metadata": {},
   "source": [
    "![](https://cf-courses-data.s3.us.cloud-object-storage.appdomain.cloud/IBMDeveloperSkillsNetwork-DS0701EN-SkillsNetwork/api/Images/landing\\_1.gif)\n"
   ]
  },
  {
   "cell_type": "markdown",
   "metadata": {},
   "source": [
    "Several examples of an unsuccessful landing are shown here:\n"
   ]
  },
  {
   "cell_type": "markdown",
   "metadata": {},
   "source": [
    "![](https://cf-courses-data.s3.us.cloud-object-storage.appdomain.cloud/IBMDeveloperSkillsNetwork-DS0701EN-SkillsNetwork/api/Images/crash.gif)\n"
   ]
  },
  {
   "cell_type": "markdown",
   "metadata": {},
   "source": [
    "More specifically, the launch records are stored in a HTML table shown below:\n"
   ]
  },
  {
   "cell_type": "markdown",
   "metadata": {},
   "source": [
    "![](https://cf-courses-data.s3.us.cloud-object-storage.appdomain.cloud/IBM-DS0321EN-SkillsNetwork/labs/module\\_1\\_L2/images/falcon9-launches-wiki.png)\n"
   ]
  },
  {
   "cell_type": "markdown",
   "metadata": {},
   "source": [
    "## Objectives\n",
    "\n",
    "Web scrap Falcon 9 launch records with `BeautifulSoup`:\n",
    "\n",
    "*   Extract a Falcon 9 launch records HTML table from Wikipedia\n",
    "*   Parse the table and convert it into a Pandas data frame\n"
   ]
  },
  {
   "cell_type": "markdown",
   "metadata": {},
   "source": [
    "First let's import required packages for this lab\n"
   ]
  },
  {
   "cell_type": "code",
   "execution_count": 1,
   "metadata": {},
   "outputs": [
    {
     "name": "stdout",
     "output_type": "stream",
     "text": [
      "Requirement already satisfied: requests in /Library/Frameworks/Python.framework/Versions/3.10/lib/python3.10/site-packages (2.27.1)\n",
      "Requirement already satisfied: idna<4,>=2.5 in /Library/Frameworks/Python.framework/Versions/3.10/lib/python3.10/site-packages (from requests) (3.3)\n",
      "Requirement already satisfied: urllib3<1.27,>=1.21.1 in /Library/Frameworks/Python.framework/Versions/3.10/lib/python3.10/site-packages (from requests) (1.26.8)\n",
      "Requirement already satisfied: charset-normalizer~=2.0.0 in /Library/Frameworks/Python.framework/Versions/3.10/lib/python3.10/site-packages (from requests) (2.0.12)\n",
      "Requirement already satisfied: certifi>=2017.4.17 in /Library/Frameworks/Python.framework/Versions/3.10/lib/python3.10/site-packages (from requests) (2021.10.8)\n",
      "Note: you may need to restart the kernel to use updated packages.\n",
      "Requirement already satisfied: bs4 in /Library/Frameworks/Python.framework/Versions/3.10/lib/python3.10/site-packages (0.0.1)\n",
      "Requirement already satisfied: beautifulsoup4 in /Library/Frameworks/Python.framework/Versions/3.10/lib/python3.10/site-packages (from bs4) (4.10.0)\n",
      "Requirement already satisfied: soupsieve>1.2 in /Library/Frameworks/Python.framework/Versions/3.10/lib/python3.10/site-packages (from beautifulsoup4->bs4) (2.3.1)\n",
      "Note: you may need to restart the kernel to use updated packages.\n",
      "Requirement already satisfied: pandas in /Library/Frameworks/Python.framework/Versions/3.10/lib/python3.10/site-packages (1.4.1)\n",
      "Requirement already satisfied: pytz>=2020.1 in /Library/Frameworks/Python.framework/Versions/3.10/lib/python3.10/site-packages (from pandas) (2021.3)\n",
      "Requirement already satisfied: numpy>=1.21.0 in /Library/Frameworks/Python.framework/Versions/3.10/lib/python3.10/site-packages (from pandas) (1.22.2)\n",
      "Requirement already satisfied: python-dateutil>=2.8.1 in /Library/Frameworks/Python.framework/Versions/3.10/lib/python3.10/site-packages (from pandas) (2.8.2)\n",
      "Requirement already satisfied: six>=1.5 in /Library/Frameworks/Python.framework/Versions/3.10/lib/python3.10/site-packages (from python-dateutil>=2.8.1->pandas) (1.16.0)\n",
      "Note: you may need to restart the kernel to use updated packages.\n",
      "Requirement already satisfied: numpy in /Library/Frameworks/Python.framework/Versions/3.10/lib/python3.10/site-packages (1.22.2)\n",
      "Note: you may need to restart the kernel to use updated packages.\n"
     ]
    }
   ],
   "source": [
    "%pip install requests\n",
    "%pip install bs4\n",
    "%pip install pandas\n",
    "%pip install numpy\n",
    "import requests\n",
    "from bs4 import BeautifulSoup\n",
    "import pandas as pd\n",
    "import numpy as np\n",
    "import time"
   ]
  },
  {
   "cell_type": "code",
   "execution_count": 2,
   "metadata": {},
   "outputs": [
    {
     "data": {
      "text/plain": [
       "200"
      ]
     },
     "execution_count": 2,
     "metadata": {},
     "output_type": "execute_result"
    }
   ],
   "source": [
    "t0 = time.time()\n",
    "url = \"https://en.wikipedia.org/wiki/List_of_Falcon_9_and_Falcon_Heavy_launches\"\n",
    "r = requests.get(url)\n",
    "soup = BeautifulSoup(r.text, 'html.parser')\n",
    "r.status_code"
   ]
  },
  {
   "cell_type": "markdown",
   "metadata": {},
   "source": [
    "A quick inspection of the wikipedia page linked to the above url indicates that the datframes we want to extract have a class \"wikitable plainrowheaders collapsible\", which can be easily extracted using the 'find_all' method in BeautifulSoup."
   ]
  },
  {
   "cell_type": "code",
   "execution_count": 3,
   "metadata": {},
   "outputs": [],
   "source": [
    "tables = soup.find_all(\"table\", class_ = \"wikitable plainrowheaders collapsible\")"
   ]
  },
  {
   "cell_type": "code",
   "execution_count": 4,
   "metadata": {},
   "outputs": [
    {
     "name": "stdout",
     "output_type": "stream",
     "text": [
      "There are a total of 10 number of tables that we would like to extract.\n"
     ]
    }
   ],
   "source": [
    "print(\"There are a total of\", len(tables), \"number of tables that we would like to extract.\")"
   ]
  },
  {
   "cell_type": "markdown",
   "metadata": {},
   "source": [
    "Below we loop through different elements of the html code to extract the required information.\n",
    "First we loop through tables with index [1, 2 ,3 ,4, 7, 8 ,9], because they follow the same exact pattern in the html code, and hence we can loop through all the tables in a single piece of code."
   ]
  },
  {
   "cell_type": "code",
   "execution_count": 5,
   "metadata": {},
   "outputs": [
    {
     "data": {
      "text/html": [
       "<div>\n",
       "<style scoped>\n",
       "    .dataframe tbody tr th:only-of-type {\n",
       "        vertical-align: middle;\n",
       "    }\n",
       "\n",
       "    .dataframe tbody tr th {\n",
       "        vertical-align: top;\n",
       "    }\n",
       "\n",
       "    .dataframe thead th {\n",
       "        text-align: right;\n",
       "    }\n",
       "</style>\n",
       "<table border=\"1\" class=\"dataframe\">\n",
       "  <thead>\n",
       "    <tr style=\"text-align: right;\">\n",
       "      <th></th>\n",
       "      <th>date</th>\n",
       "      <th>Booster_Version</th>\n",
       "      <th>Launch_Site</th>\n",
       "      <th>Payload</th>\n",
       "      <th>Payload_mass</th>\n",
       "      <th>Orbit</th>\n",
       "      <th>customer</th>\n",
       "      <th>Launch_Outcome</th>\n",
       "      <th>Booster_Landing</th>\n",
       "    </tr>\n",
       "  </thead>\n",
       "  <tbody>\n",
       "    <tr>\n",
       "      <th>0</th>\n",
       "      <td>6 January 2014,22:06[42]</td>\n",
       "      <td>F9 v1.1</td>\n",
       "      <td>CCAFS,SLC-40</td>\n",
       "      <td>Thaicom 6[23]</td>\n",
       "      <td>3,325 kg (7,330 lb)</td>\n",
       "      <td>GTO</td>\n",
       "      <td>Thaicom</td>\n",
       "      <td>Success[43]</td>\n",
       "      <td>No attempt[44]</td>\n",
       "    </tr>\n",
       "    <tr>\n",
       "      <th>1</th>\n",
       "      <td>18 April 2014,19:25[22]</td>\n",
       "      <td>F9 v1.1</td>\n",
       "      <td>Cape Canaveral,LC-40</td>\n",
       "      <td>SpaceX CRS-3[23](Dragon C105)</td>\n",
       "      <td>2,296 kg (5,062 lb)[46] (excl. Dragon mass)</td>\n",
       "      <td>LEO (ISS)</td>\n",
       "      <td>NASA (CRS)</td>\n",
       "      <td>Success</td>\n",
       "      <td>Controlled(ocean) [d][47]</td>\n",
       "    </tr>\n",
       "    <tr>\n",
       "      <th>2</th>\n",
       "      <td>14 July 2014,15:15</td>\n",
       "      <td>F9 v1.1</td>\n",
       "      <td>Cape Canaveral,LC-40</td>\n",
       "      <td>Orbcomm-OG2-1(6 satellites)[23]</td>\n",
       "      <td>1,316 kg (2,901 lb)</td>\n",
       "      <td>LEO</td>\n",
       "      <td>Orbcomm</td>\n",
       "      <td>Success[52]</td>\n",
       "      <td>Controlled(ocean)[d][47]</td>\n",
       "    </tr>\n",
       "    <tr>\n",
       "      <th>3</th>\n",
       "      <td>5 August 2014,08:00</td>\n",
       "      <td>F9 v1.1</td>\n",
       "      <td>Cape Canaveral,LC-40</td>\n",
       "      <td>AsiaSat 8[23][55][56]</td>\n",
       "      <td>4,535 kg (9,998 lb)</td>\n",
       "      <td>GTO</td>\n",
       "      <td>AsiaSat</td>\n",
       "      <td>Success[57]</td>\n",
       "      <td>No attempt[58]</td>\n",
       "    </tr>\n",
       "    <tr>\n",
       "      <th>4</th>\n",
       "      <td>7 September 2014,05:00</td>\n",
       "      <td>F9 v1.1B1011[8]</td>\n",
       "      <td>Cape Canaveral,LC-40</td>\n",
       "      <td>AsiaSat 6[23][55][59]</td>\n",
       "      <td>4,428 kg (9,762 lb)</td>\n",
       "      <td>GTO</td>\n",
       "      <td>AsiaSat</td>\n",
       "      <td>Success[60]</td>\n",
       "      <td>No attempt</td>\n",
       "    </tr>\n",
       "  </tbody>\n",
       "</table>\n",
       "</div>"
      ],
      "text/plain": [
       "                       date  Booster_Version           Launch_Site  \\\n",
       "0  6 January 2014,22:06[42]          F9 v1.1          CCAFS,SLC-40   \n",
       "1   18 April 2014,19:25[22]          F9 v1.1  Cape Canaveral,LC-40   \n",
       "2        14 July 2014,15:15          F9 v1.1  Cape Canaveral,LC-40   \n",
       "3       5 August 2014,08:00          F9 v1.1  Cape Canaveral,LC-40   \n",
       "4    7 September 2014,05:00  F9 v1.1B1011[8]  Cape Canaveral,LC-40   \n",
       "\n",
       "                           Payload  \\\n",
       "0                    Thaicom 6[23]   \n",
       "1    SpaceX CRS-3[23](Dragon C105)   \n",
       "2  Orbcomm-OG2-1(6 satellites)[23]   \n",
       "3            AsiaSat 8[23][55][56]   \n",
       "4            AsiaSat 6[23][55][59]   \n",
       "\n",
       "                                  Payload_mass      Orbit    customer  \\\n",
       "0                          3,325 kg (7,330 lb)        GTO     Thaicom   \n",
       "1  2,296 kg (5,062 lb)[46] (excl. Dragon mass)  LEO (ISS)  NASA (CRS)   \n",
       "2                          1,316 kg (2,901 lb)        LEO     Orbcomm   \n",
       "3                          4,535 kg (9,998 lb)        GTO     AsiaSat   \n",
       "4                          4,428 kg (9,762 lb)        GTO     AsiaSat   \n",
       "\n",
       "  Launch_Outcome            Booster_Landing  \n",
       "0    Success[43]             No attempt[44]  \n",
       "1        Success  Controlled(ocean) [d][47]  \n",
       "2    Success[52]   Controlled(ocean)[d][47]  \n",
       "3    Success[57]             No attempt[58]  \n",
       "4    Success[60]                 No attempt  "
      ]
     },
     "execution_count": 5,
     "metadata": {},
     "output_type": "execute_result"
    }
   ],
   "source": [
    "all_tables = []\n",
    "for ind in [1, 2 ,3 ,4, 7, 8 ,9]: #the index that corresponds to the table to be extracted\n",
    "    t_body = tables[ind].find(\"tbody\")\n",
    "    t_r = t_body.find_all(\"tr\")\n",
    "    date = []\n",
    "    Booster_Version = []\n",
    "    Launch_Site = []\n",
    "    Payload = []\n",
    "    Payload_mass = []\n",
    "    Orbit = []\n",
    "    customer = []\n",
    "    Launch_Outcome = []\n",
    "    Booster_Landing = []\n",
    "    date = []\n",
    "    #below we loop through different 'td' tags in the html to extract the different columns\n",
    "    for index in range(1,len(t_r),2):\n",
    "        date_iter = t_r[index].find_all(\"td\")[0].text\n",
    "        date.append(date_iter[:-1])\n",
    "        Booster_Version_iter = t_r[index].find_all(\"td\")[1].text\n",
    "        Booster_Version.append(Booster_Version_iter[:-1])\n",
    "        Launch_Site_iter = t_r[index].find_all(\"td\")[2].text\n",
    "        Launch_Site.append(Launch_Site_iter[:-1])\n",
    "        Payload_iter = t_r[index].find_all(\"td\")[3].text\n",
    "        Payload.append(Payload_iter[:-1])\n",
    "        Payload_mass_iter = t_r[index].find_all(\"td\")[4].text\n",
    "        Payload_mass.append(Payload_mass_iter[:-1])\n",
    "        Orbit_iter = t_r[index].find_all(\"td\")[5].text\n",
    "        Orbit.append(Orbit_iter[:-1])\n",
    "        customer_iter = t_r[index].find_all(\"td\")[6].text\n",
    "        customer.append(customer_iter[:-1])\n",
    "        Launch_Outcome_iter = t_r[index].find_all(\"td\")[7].text\n",
    "        Launch_Outcome.append(Launch_Outcome_iter[:-1])\n",
    "        Booster_Landing_iter = t_r[index].find_all(\"td\")[8].text\n",
    "        Booster_Landing.append(Booster_Landing_iter[:-1])\n",
    "    all_tables_iter = pd.DataFrame({ #append and creates a dataframe\n",
    "        'date' : date, \n",
    "        'Booster_Version' : Booster_Version,\n",
    "        'Launch_Site' : Launch_Site,\n",
    "        'Payload' : Payload,\n",
    "        'Payload_mass' : Payload_mass, \n",
    "        'Orbit' : Orbit,\n",
    "        'customer' : customer,\n",
    "        'Launch_Outcome' : Launch_Outcome, \n",
    "        'Booster_Landing' :  Booster_Landing,\n",
    "        'date' :  date\n",
    "\n",
    "    })\n",
    "    all_tables.append(all_tables_iter)\n",
    "all_tables[0].head()"
   ]
  },
  {
   "cell_type": "markdown",
   "metadata": {},
   "source": [
    "Below we loop through the table with index = 0."
   ]
  },
  {
   "cell_type": "code",
   "execution_count": 6,
   "metadata": {},
   "outputs": [
    {
     "data": {
      "text/html": [
       "<div>\n",
       "<style scoped>\n",
       "    .dataframe tbody tr th:only-of-type {\n",
       "        vertical-align: middle;\n",
       "    }\n",
       "\n",
       "    .dataframe tbody tr th {\n",
       "        vertical-align: top;\n",
       "    }\n",
       "\n",
       "    .dataframe thead th {\n",
       "        text-align: right;\n",
       "    }\n",
       "</style>\n",
       "<table border=\"1\" class=\"dataframe\">\n",
       "  <thead>\n",
       "    <tr style=\"text-align: right;\">\n",
       "      <th></th>\n",
       "      <th>date</th>\n",
       "      <th>Booster_Version</th>\n",
       "      <th>Launch_Site</th>\n",
       "      <th>Payload</th>\n",
       "      <th>Payload_mass</th>\n",
       "      <th>Orbit</th>\n",
       "      <th>customer</th>\n",
       "      <th>Launch_Outcome</th>\n",
       "      <th>Booster_Landing</th>\n",
       "    </tr>\n",
       "  </thead>\n",
       "  <tbody>\n",
       "    <tr>\n",
       "      <th>0</th>\n",
       "      <td>4 June 2010,18:45</td>\n",
       "      <td>F9 v1.0[7]B0003[8]</td>\n",
       "      <td>CCAFS,SLC-40</td>\n",
       "      <td>Dragon Spacecraft Qualification Unit</td>\n",
       "      <td>No payload (excl. Dragon Mass)</td>\n",
       "      <td>LEO</td>\n",
       "      <td>SpaceX</td>\n",
       "      <td>Success</td>\n",
       "      <td>Failure[9][10](parachute)</td>\n",
       "    </tr>\n",
       "    <tr>\n",
       "      <th>1</th>\n",
       "      <td>8 December 2010,15:43[13]</td>\n",
       "      <td>F9 v1.0[7]B0004[8]</td>\n",
       "      <td>CCAFS,SLC-40</td>\n",
       "      <td>Dragon demo flight C1(Dragon C101)</td>\n",
       "      <td>Classified (excl. Dragon Mass)</td>\n",
       "      <td>LEO (ISS)</td>\n",
       "      <td>\\nNASA (COTS)\\nNRO\\n</td>\n",
       "      <td>Success[9]</td>\n",
       "      <td>Failure[9][14](parachute)</td>\n",
       "    </tr>\n",
       "    <tr>\n",
       "      <th>2</th>\n",
       "      <td>22 May 2012,07:44[18]</td>\n",
       "      <td>F9 v1.0[7]B0005[8]</td>\n",
       "      <td>CCAFS,SLC-40</td>\n",
       "      <td>Dragon demo flight C2+[19](Dragon C102)</td>\n",
       "      <td>525 kg (1,157 lb)[20] (excl. Dragon mass)</td>\n",
       "      <td>LEO (ISS)</td>\n",
       "      <td>NASA (COTS)</td>\n",
       "      <td>Success[21]</td>\n",
       "      <td>No attempt</td>\n",
       "    </tr>\n",
       "  </tbody>\n",
       "</table>\n",
       "</div>"
      ],
      "text/plain": [
       "                        date     Booster_Version   Launch_Site  \\\n",
       "0          4 June 2010,18:45  F9 v1.0[7]B0003[8]  CCAFS,SLC-40   \n",
       "1  8 December 2010,15:43[13]  F9 v1.0[7]B0004[8]  CCAFS,SLC-40   \n",
       "2      22 May 2012,07:44[18]  F9 v1.0[7]B0005[8]  CCAFS,SLC-40   \n",
       "\n",
       "                                   Payload  \\\n",
       "0     Dragon Spacecraft Qualification Unit   \n",
       "1       Dragon demo flight C1(Dragon C101)   \n",
       "2  Dragon demo flight C2+[19](Dragon C102)   \n",
       "\n",
       "                                Payload_mass      Orbit              customer  \\\n",
       "0             No payload (excl. Dragon Mass)        LEO                SpaceX   \n",
       "1             Classified (excl. Dragon Mass)  LEO (ISS)  \\nNASA (COTS)\\nNRO\\n   \n",
       "2  525 kg (1,157 lb)[20] (excl. Dragon mass)  LEO (ISS)           NASA (COTS)   \n",
       "\n",
       "  Launch_Outcome            Booster_Landing  \n",
       "0        Success  Failure[9][10](parachute)  \n",
       "1     Success[9]  Failure[9][14](parachute)  \n",
       "2    Success[21]                 No attempt  "
      ]
     },
     "execution_count": 6,
     "metadata": {},
     "output_type": "execute_result"
    }
   ],
   "source": [
    "tables = soup.find_all(\"table\", class_ = \"wikitable plainrowheaders collapsible\")\n",
    "#tables = soup.find_all(\"table\", class_ = \"wikitable\")\n",
    "#there are 10 such tables\n",
    "t_body = tables[0].find(\"tbody\")\n",
    "t_r = t_body.find_all(\"tr\")\n",
    "date = []\n",
    "Booster_Version = []\n",
    "Launch_Site = []\n",
    "Payload = []\n",
    "Payload_mass = []\n",
    "Orbit = []\n",
    "customer = []\n",
    "Launch_Outcome = []\n",
    "Booster_Landing = []\n",
    "date = []\n",
    "#for index in range(1,len(t_r),9):\n",
    "for index in range(1,9,2):\n",
    "    date_iter = t_r[index].find_all(\"td\")[0].text\n",
    "    date.append(date_iter[:-1])\n",
    "    Booster_Version_iter = t_r[index].find_all(\"td\")[1].text\n",
    "    Booster_Version.append(Booster_Version_iter[:-1])\n",
    "    Launch_Site_iter = t_r[index].find_all(\"td\")[2].text\n",
    "    Launch_Site.append(Launch_Site_iter[:-1])\n",
    "    Payload_iter = t_r[index].find_all(\"td\")[3].text\n",
    "    Payload.append(Payload_iter[:-1])\n",
    "    Payload_mass_iter = t_r[index].find_all(\"td\")[4].text\n",
    "    Payload_mass.append(Payload_mass_iter[:-1])\n",
    "    Orbit_iter = t_r[index].find_all(\"td\")[5].text\n",
    "    Orbit.append(Orbit_iter[:-1])\n",
    "    customer_iter = t_r[index].find_all(\"td\")[6].text\n",
    "    customer.append(customer_iter[:-1])\n",
    "    Launch_Outcome_iter = t_r[index].find_all(\"td\")[7].text\n",
    "    Launch_Outcome.append(Launch_Outcome_iter[:-1])\n",
    "    Booster_Landing_iter = t_r[index].find_all(\"td\")[8].text\n",
    "    Booster_Landing.append(Booster_Landing_iter[:-1])\n",
    "table1 = pd.DataFrame({\n",
    "    'date' : date, \n",
    "    'Booster_Version' : Booster_Version,\n",
    "    'Launch_Site' : Launch_Site,\n",
    "    'Payload' : Payload,\n",
    "    'Payload_mass' : Payload_mass, \n",
    "    'Orbit' : Orbit,\n",
    "    'customer' : customer,\n",
    "    'Launch_Outcome' : Launch_Outcome, \n",
    "    'Booster_Landing' :  Booster_Landing,\n",
    "    'date' :  date\n",
    "\n",
    "})\n",
    "table1.head(3)"
   ]
  },
  {
   "cell_type": "markdown",
   "metadata": {},
   "source": [
    "Below we loop through the table with index = 5."
   ]
  },
  {
   "cell_type": "code",
   "execution_count": 7,
   "metadata": {},
   "outputs": [
    {
     "data": {
      "text/html": [
       "<div>\n",
       "<style scoped>\n",
       "    .dataframe tbody tr th:only-of-type {\n",
       "        vertical-align: middle;\n",
       "    }\n",
       "\n",
       "    .dataframe tbody tr th {\n",
       "        vertical-align: top;\n",
       "    }\n",
       "\n",
       "    .dataframe thead th {\n",
       "        text-align: right;\n",
       "    }\n",
       "</style>\n",
       "<table border=\"1\" class=\"dataframe\">\n",
       "  <thead>\n",
       "    <tr style=\"text-align: right;\">\n",
       "      <th></th>\n",
       "      <th>date</th>\n",
       "      <th>Booster_Version</th>\n",
       "      <th>Launch_Site</th>\n",
       "      <th>Payload</th>\n",
       "      <th>Payload_mass</th>\n",
       "      <th>Orbit</th>\n",
       "      <th>customer</th>\n",
       "      <th>Launch_Outcome</th>\n",
       "      <th>Booster_Landing</th>\n",
       "    </tr>\n",
       "  </thead>\n",
       "  <tbody>\n",
       "    <tr>\n",
       "      <th>0</th>\n",
       "      <td>22 February 2018,14:17[267]</td>\n",
       "      <td>F9 FT ♺B1038.2[268]</td>\n",
       "      <td>VAFB,SLC-4E</td>\n",
       "      <td>\\nPaz[269]\\nTintin A and Tintin B[270]\\n</td>\n",
       "      <td>2,150 kg (4,740 lb)</td>\n",
       "      <td>SSO</td>\n",
       "      <td>\\nHisdesat\\nexactEarth\\nSpaceX\\n</td>\n",
       "      <td>Success[271]</td>\n",
       "      <td>No attempt[271]</td>\n",
       "    </tr>\n",
       "    <tr>\n",
       "      <th>1</th>\n",
       "      <td>6 March 2018,05:33[276]</td>\n",
       "      <td>F9 B4B1044.1[110]</td>\n",
       "      <td>CCAFS,SLC-40</td>\n",
       "      <td>\\nHispasat 30W-6[277]\\nPODSat[278]\\n</td>\n",
       "      <td>6,092 kg (13,431 lb)[279]</td>\n",
       "      <td>GTO</td>\n",
       "      <td>\\nHispasat[277]\\nNovaWurks\\n</td>\n",
       "      <td>Success[280]</td>\n",
       "      <td>No attempt[281]</td>\n",
       "    </tr>\n",
       "    <tr>\n",
       "      <th>2</th>\n",
       "      <td>30 March 2018,14:14[285]</td>\n",
       "      <td>F9 B4 ♺B1041.2[268]</td>\n",
       "      <td>VAFB,SLC-4E</td>\n",
       "      <td>Iridium NEXT-5(10 satellites)[154]</td>\n",
       "      <td>9,600 kg (21,200 lb)</td>\n",
       "      <td>Polar LEO</td>\n",
       "      <td>Iridium Communications</td>\n",
       "      <td>Success[286]</td>\n",
       "      <td>No attempt[287]</td>\n",
       "    </tr>\n",
       "  </tbody>\n",
       "</table>\n",
       "</div>"
      ],
      "text/plain": [
       "                          date      Booster_Version   Launch_Site  \\\n",
       "0  22 February 2018,14:17[267]  F9 FT ♺B1038.2[268]   VAFB,SLC-4E   \n",
       "1      6 March 2018,05:33[276]    F9 B4B1044.1[110]  CCAFS,SLC-40   \n",
       "2     30 March 2018,14:14[285]  F9 B4 ♺B1041.2[268]   VAFB,SLC-4E   \n",
       "\n",
       "                                    Payload               Payload_mass  \\\n",
       "0  \\nPaz[269]\\nTintin A and Tintin B[270]\\n        2,150 kg (4,740 lb)   \n",
       "1      \\nHispasat 30W-6[277]\\nPODSat[278]\\n  6,092 kg (13,431 lb)[279]   \n",
       "2        Iridium NEXT-5(10 satellites)[154]       9,600 kg (21,200 lb)   \n",
       "\n",
       "       Orbit                          customer Launch_Outcome  Booster_Landing  \n",
       "0        SSO  \\nHisdesat\\nexactEarth\\nSpaceX\\n   Success[271]  No attempt[271]  \n",
       "1        GTO      \\nHispasat[277]\\nNovaWurks\\n   Success[280]  No attempt[281]  \n",
       "2  Polar LEO            Iridium Communications   Success[286]  No attempt[287]  "
      ]
     },
     "execution_count": 7,
     "metadata": {},
     "output_type": "execute_result"
    }
   ],
   "source": [
    "#all tables with class = \"wikitable plainrowheaders collapsible\"\n",
    "tables = soup.find_all(\"table\", class_ = \"wikitable plainrowheaders collapsible\")\n",
    "#tables = soup.find_all(\"table\", class_ = \"wikitable\")\n",
    "#there are 10 such tables\n",
    "t_body = tables[5].find(\"tbody\")\n",
    "t_r = t_body.find_all(\"tr\")\n",
    "date = []\n",
    "Booster_Version = []\n",
    "Launch_Site = []\n",
    "Payload = []\n",
    "Payload_mass = []\n",
    "Orbit = []\n",
    "customer = []\n",
    "Launch_Outcome = []\n",
    "Booster_Landing = []\n",
    "date = []\n",
    "for index in range(9,len(t_r),2):\n",
    "#for index in range(1,9,2):\n",
    "    date_iter = t_r[index].find_all(\"td\")[0].text\n",
    "    date.append(date_iter[:-1])\n",
    "    Booster_Version_iter = t_r[index].find_all(\"td\")[1].text\n",
    "    Booster_Version.append(Booster_Version_iter[:-1])\n",
    "    Launch_Site_iter = t_r[index].find_all(\"td\")[2].text\n",
    "    Launch_Site.append(Launch_Site_iter[:-1])\n",
    "    Payload_iter = t_r[index].find_all(\"td\")[3].text\n",
    "    Payload.append(Payload_iter[:-1])\n",
    "    Payload_mass_iter = t_r[index].find_all(\"td\")[4].text\n",
    "    Payload_mass.append(Payload_mass_iter[:-1])\n",
    "    Orbit_iter = t_r[index].find_all(\"td\")[5].text\n",
    "    Orbit.append(Orbit_iter[:-1])\n",
    "    customer_iter = t_r[index].find_all(\"td\")[6].text\n",
    "    customer.append(customer_iter[:-1])\n",
    "    Launch_Outcome_iter = t_r[index].find_all(\"td\")[7].text\n",
    "    Launch_Outcome.append(Launch_Outcome_iter[:-1])\n",
    "    Booster_Landing_iter = t_r[index].find_all(\"td\")[8].text\n",
    "    Booster_Landing.append(Booster_Landing_iter[:-1])\n",
    "table2 = pd.DataFrame({\n",
    "    'date' : date, \n",
    "    'Booster_Version' : Booster_Version,\n",
    "    'Launch_Site' : Launch_Site,\n",
    "    'Payload' : Payload,\n",
    "    'Payload_mass' : Payload_mass, \n",
    "    'Orbit' : Orbit,\n",
    "    'customer' : customer,\n",
    "    'Launch_Outcome' : Launch_Outcome, \n",
    "    'Booster_Landing' :  Booster_Landing,\n",
    "    'date' :  date\n",
    "\n",
    "})\n",
    "table2.head(3)"
   ]
  },
  {
   "cell_type": "markdown",
   "metadata": {},
   "source": [
    "Create a `BeautifulSoup` object from the HTML `response`\n"
   ]
  },
  {
   "cell_type": "markdown",
   "metadata": {},
   "source": [
    "And finally, we loop through the table with index = 6."
   ]
  },
  {
   "cell_type": "code",
   "execution_count": 8,
   "metadata": {},
   "outputs": [
    {
     "data": {
      "text/html": [
       "<div>\n",
       "<style scoped>\n",
       "    .dataframe tbody tr th:only-of-type {\n",
       "        vertical-align: middle;\n",
       "    }\n",
       "\n",
       "    .dataframe tbody tr th {\n",
       "        vertical-align: top;\n",
       "    }\n",
       "\n",
       "    .dataframe thead th {\n",
       "        text-align: right;\n",
       "    }\n",
       "</style>\n",
       "<table border=\"1\" class=\"dataframe\">\n",
       "  <thead>\n",
       "    <tr style=\"text-align: right;\">\n",
       "      <th></th>\n",
       "      <th>date</th>\n",
       "      <th>Booster_Version</th>\n",
       "      <th>Launch_Site</th>\n",
       "      <th>Payload</th>\n",
       "      <th>Payload_mass</th>\n",
       "      <th>Orbit</th>\n",
       "      <th>customer</th>\n",
       "      <th>Launch_Outcome</th>\n",
       "      <th>Booster_Landing</th>\n",
       "    </tr>\n",
       "  </thead>\n",
       "  <tbody>\n",
       "    <tr>\n",
       "      <th>0</th>\n",
       "      <td>11 January 2019,15:31[396]</td>\n",
       "      <td>F9 B5 ♺B1049.2[397]</td>\n",
       "      <td>VAFB,SLC-4E</td>\n",
       "      <td>Iridium NEXT-8(10 satellites)[154]</td>\n",
       "      <td>9,600 kg (21,200 lb)</td>\n",
       "      <td>Polar LEO</td>\n",
       "      <td>Iridium Communications</td>\n",
       "      <td>Success</td>\n",
       "      <td>Success(drone ship)</td>\n",
       "    </tr>\n",
       "    <tr>\n",
       "      <th>1</th>\n",
       "      <td>22 February 2019,01:45[398]</td>\n",
       "      <td>F9 B5 ♺B1048.3[399]</td>\n",
       "      <td>CCAFS,SLC-40</td>\n",
       "      <td>\\nNusantara Satu (PSN-6)[400]\\nBeresheet Moon ...</td>\n",
       "      <td>4,850 kg (10,690 lb)[403]</td>\n",
       "      <td>GTO</td>\n",
       "      <td>\\nPSN\\nSpaceIL / IAI\\nAir Force Research\\n</td>\n",
       "      <td>Success</td>\n",
       "      <td>Success(drone ship)</td>\n",
       "    </tr>\n",
       "    <tr>\n",
       "      <th>2</th>\n",
       "      <td>2 March 2019,07:49[412]</td>\n",
       "      <td>F9 B5B1051.1[268][413]</td>\n",
       "      <td>KSC,LC-39A</td>\n",
       "      <td>Crew Dragon Demo-1[414](Dragon C201)</td>\n",
       "      <td>12,055 kg (26,577 lb)[415][h]</td>\n",
       "      <td>LEO (ISS)</td>\n",
       "      <td>NASA (CCD)</td>\n",
       "      <td>Success</td>\n",
       "      <td>Success(drone ship)</td>\n",
       "    </tr>\n",
       "  </tbody>\n",
       "</table>\n",
       "</div>"
      ],
      "text/plain": [
       "                          date         Booster_Version   Launch_Site  \\\n",
       "0   11 January 2019,15:31[396]     F9 B5 ♺B1049.2[397]   VAFB,SLC-4E   \n",
       "1  22 February 2019,01:45[398]     F9 B5 ♺B1048.3[399]  CCAFS,SLC-40   \n",
       "2      2 March 2019,07:49[412]  F9 B5B1051.1[268][413]    KSC,LC-39A   \n",
       "\n",
       "                                             Payload  \\\n",
       "0                 Iridium NEXT-8(10 satellites)[154]   \n",
       "1  \\nNusantara Satu (PSN-6)[400]\\nBeresheet Moon ...   \n",
       "2               Crew Dragon Demo-1[414](Dragon C201)   \n",
       "\n",
       "                    Payload_mass      Orbit  \\\n",
       "0           9,600 kg (21,200 lb)  Polar LEO   \n",
       "1      4,850 kg (10,690 lb)[403]        GTO   \n",
       "2  12,055 kg (26,577 lb)[415][h]  LEO (ISS)   \n",
       "\n",
       "                                     customer Launch_Outcome  \\\n",
       "0                      Iridium Communications        Success   \n",
       "1  \\nPSN\\nSpaceIL / IAI\\nAir Force Research\\n        Success   \n",
       "2                                 NASA (CCD)         Success   \n",
       "\n",
       "       Booster_Landing  \n",
       "0  Success(drone ship)  \n",
       "1  Success(drone ship)  \n",
       "2  Success(drone ship)  "
      ]
     },
     "execution_count": 8,
     "metadata": {},
     "output_type": "execute_result"
    }
   ],
   "source": [
    "#all tables with class = \"wikitable plainrowheaders collapsible\"\n",
    "tables = soup.find_all(\"table\", class_ = \"wikitable plainrowheaders collapsible\")\n",
    "#tables = soup.find_all(\"table\", class_ = \"wikitable\")\n",
    "#there are 10 such tables\n",
    "t_body = tables[6].find(\"tbody\")\n",
    "t_r = t_body.find_all(\"tr\")\n",
    "date = []\n",
    "Booster_Version = []\n",
    "Launch_Site = []\n",
    "Payload = []\n",
    "Payload_mass = []\n",
    "Orbit = []\n",
    "customer = []\n",
    "Launch_Outcome = []\n",
    "Booster_Landing = []\n",
    "date = []\n",
    "table3 = []\n",
    "for index in [1 ,3 ,5, 7 ,11, 13 ,15, 17 , 21, 23 ,25 ,27 ,29]:\n",
    "    date_iter = t_r[index].find_all(\"td\")[0].text\n",
    "    date.append(date_iter[:-1])\n",
    "    Booster_Version_iter = t_r[index].find_all(\"td\")[1].text\n",
    "    Booster_Version.append(Booster_Version_iter[:-1])\n",
    "    Launch_Site_iter = t_r[index].find_all(\"td\")[2].text\n",
    "    Launch_Site.append(Launch_Site_iter[:-1])\n",
    "    Payload_iter = t_r[index].find_all(\"td\")[3].text\n",
    "    Payload.append(Payload_iter[:-1])\n",
    "    Payload_mass_iter = t_r[index].find_all(\"td\")[4].text\n",
    "    Payload_mass.append(Payload_mass_iter[:-1])\n",
    "    Orbit_iter = t_r[index].find_all(\"td\")[5].text\n",
    "    Orbit.append(Orbit_iter[:-1])\n",
    "    customer_iter = t_r[index].find_all(\"td\")[6].text\n",
    "    customer.append(customer_iter[:-1])\n",
    "    Launch_Outcome_iter = t_r[index].find_all(\"td\")[7].text\n",
    "    Launch_Outcome.append(Launch_Outcome_iter[:-1])\n",
    "    Booster_Landing_iter = t_r[index].find_all(\"td\")[8].text\n",
    "    Booster_Landing.append(Booster_Landing_iter[:-1])\n",
    "table3 = pd.DataFrame({\n",
    "    'date' : date, \n",
    "    'Booster_Version' : Booster_Version,\n",
    "    'Launch_Site' : Launch_Site,\n",
    "    'Payload' : Payload,\n",
    "    'Payload_mass' : Payload_mass, \n",
    "    'Orbit' : Orbit,\n",
    "    'customer' : customer,\n",
    "    'Launch_Outcome' : Launch_Outcome, \n",
    "    'Booster_Landing' :  Booster_Landing,\n",
    "    'date' :  date\n",
    "\n",
    "})\n",
    "table3.head(3)"
   ]
  },
  {
   "cell_type": "markdown",
   "metadata": {},
   "source": [
    "Now, we can concatenate all the tables that were extracted."
   ]
  },
  {
   "cell_type": "code",
   "execution_count": 9,
   "metadata": {},
   "outputs": [
    {
     "data": {
      "text/html": [
       "<div>\n",
       "<style scoped>\n",
       "    .dataframe tbody tr th:only-of-type {\n",
       "        vertical-align: middle;\n",
       "    }\n",
       "\n",
       "    .dataframe tbody tr th {\n",
       "        vertical-align: top;\n",
       "    }\n",
       "\n",
       "    .dataframe thead th {\n",
       "        text-align: right;\n",
       "    }\n",
       "</style>\n",
       "<table border=\"1\" class=\"dataframe\">\n",
       "  <thead>\n",
       "    <tr style=\"text-align: right;\">\n",
       "      <th></th>\n",
       "      <th>Flight No.</th>\n",
       "      <th>date</th>\n",
       "      <th>Booster_Version</th>\n",
       "      <th>Launch_Site</th>\n",
       "      <th>Payload</th>\n",
       "      <th>Payload_mass</th>\n",
       "      <th>Orbit</th>\n",
       "      <th>customer</th>\n",
       "      <th>Launch_Outcome</th>\n",
       "      <th>Booster_Landing</th>\n",
       "    </tr>\n",
       "  </thead>\n",
       "  <tbody>\n",
       "    <tr>\n",
       "      <th>0</th>\n",
       "      <td>1</td>\n",
       "      <td>4 June 2010,18:45</td>\n",
       "      <td>F9 v1.0[7]B0003[8]</td>\n",
       "      <td>CCAFS,SLC-40</td>\n",
       "      <td>Dragon Spacecraft Qualification Unit</td>\n",
       "      <td>No payload (excl. Dragon Mass)</td>\n",
       "      <td>LEO</td>\n",
       "      <td>SpaceX</td>\n",
       "      <td>Success</td>\n",
       "      <td>Failure[9][10](parachute)</td>\n",
       "    </tr>\n",
       "    <tr>\n",
       "      <th>1</th>\n",
       "      <td>2</td>\n",
       "      <td>8 December 2010,15:43[13]</td>\n",
       "      <td>F9 v1.0[7]B0004[8]</td>\n",
       "      <td>CCAFS,SLC-40</td>\n",
       "      <td>Dragon demo flight C1(Dragon C101)</td>\n",
       "      <td>Classified (excl. Dragon Mass)</td>\n",
       "      <td>LEO (ISS)</td>\n",
       "      <td>\\nNASA (COTS)\\nNRO\\n</td>\n",
       "      <td>Success[9]</td>\n",
       "      <td>Failure[9][14](parachute)</td>\n",
       "    </tr>\n",
       "    <tr>\n",
       "      <th>2</th>\n",
       "      <td>3</td>\n",
       "      <td>22 May 2012,07:44[18]</td>\n",
       "      <td>F9 v1.0[7]B0005[8]</td>\n",
       "      <td>CCAFS,SLC-40</td>\n",
       "      <td>Dragon demo flight C2+[19](Dragon C102)</td>\n",
       "      <td>525 kg (1,157 lb)[20] (excl. Dragon mass)</td>\n",
       "      <td>LEO (ISS)</td>\n",
       "      <td>NASA (COTS)</td>\n",
       "      <td>Success[21]</td>\n",
       "      <td>No attempt</td>\n",
       "    </tr>\n",
       "    <tr>\n",
       "      <th>3</th>\n",
       "      <td>4</td>\n",
       "      <td>8 October 2012,00:35[22]</td>\n",
       "      <td>F9 v1.0[7]B0006[8]</td>\n",
       "      <td>CCAFS,SLC-40</td>\n",
       "      <td>SpaceX CRS-1[23](Dragon C103)</td>\n",
       "      <td>4,700 kg (10,400 lb) (excl. Dragon mass)</td>\n",
       "      <td>LEO (ISS)</td>\n",
       "      <td>NASA (CRS)</td>\n",
       "      <td>Success</td>\n",
       "      <td>No attempt</td>\n",
       "    </tr>\n",
       "    <tr>\n",
       "      <th>4</th>\n",
       "      <td>5</td>\n",
       "      <td>6 January 2014,22:06[42]</td>\n",
       "      <td>F9 v1.1</td>\n",
       "      <td>CCAFS,SLC-40</td>\n",
       "      <td>Thaicom 6[23]</td>\n",
       "      <td>3,325 kg (7,330 lb)</td>\n",
       "      <td>GTO</td>\n",
       "      <td>Thaicom</td>\n",
       "      <td>Success[43]</td>\n",
       "      <td>No attempt[44]</td>\n",
       "    </tr>\n",
       "  </tbody>\n",
       "</table>\n",
       "</div>"
      ],
      "text/plain": [
       "   Flight No.                       date     Booster_Version   Launch_Site  \\\n",
       "0           1          4 June 2010,18:45  F9 v1.0[7]B0003[8]  CCAFS,SLC-40   \n",
       "1           2  8 December 2010,15:43[13]  F9 v1.0[7]B0004[8]  CCAFS,SLC-40   \n",
       "2           3      22 May 2012,07:44[18]  F9 v1.0[7]B0005[8]  CCAFS,SLC-40   \n",
       "3           4   8 October 2012,00:35[22]  F9 v1.0[7]B0006[8]  CCAFS,SLC-40   \n",
       "4           5   6 January 2014,22:06[42]             F9 v1.1  CCAFS,SLC-40   \n",
       "\n",
       "                                   Payload  \\\n",
       "0     Dragon Spacecraft Qualification Unit   \n",
       "1       Dragon demo flight C1(Dragon C101)   \n",
       "2  Dragon demo flight C2+[19](Dragon C102)   \n",
       "3            SpaceX CRS-1[23](Dragon C103)   \n",
       "4                            Thaicom 6[23]   \n",
       "\n",
       "                                Payload_mass      Orbit              customer  \\\n",
       "0             No payload (excl. Dragon Mass)        LEO                SpaceX   \n",
       "1             Classified (excl. Dragon Mass)  LEO (ISS)  \\nNASA (COTS)\\nNRO\\n   \n",
       "2  525 kg (1,157 lb)[20] (excl. Dragon mass)  LEO (ISS)           NASA (COTS)   \n",
       "3   4,700 kg (10,400 lb) (excl. Dragon mass)  LEO (ISS)            NASA (CRS)   \n",
       "4                        3,325 kg (7,330 lb)        GTO               Thaicom   \n",
       "\n",
       "  Launch_Outcome            Booster_Landing  \n",
       "0        Success  Failure[9][10](parachute)  \n",
       "1     Success[9]  Failure[9][14](parachute)  \n",
       "2    Success[21]                 No attempt  \n",
       "3        Success                 No attempt  \n",
       "4    Success[43]             No attempt[44]  "
      ]
     },
     "execution_count": 9,
     "metadata": {},
     "output_type": "execute_result"
    }
   ],
   "source": [
    "data = pd.concat([table1,all_tables[0],all_tables[1] ,\n",
    "all_tables[2] ,all_tables[3], table2,\n",
    "all_tables[4] ,table3, all_tables[5]])\n",
    "\n",
    "#add a column named 'Flight No.\"\n",
    "data['Flight No.'] = np.arange(1,data.shape[0]+1,1)\n",
    "\n",
    "#reset the index and drop the index column\n",
    "data = data.reset_index()\n",
    "data.drop(['index'], axis = 1, inplace = True)\n",
    "\n",
    "#rearrange the columns\n",
    "data = data[['Flight No.','date', 'Booster_Version', 'Launch_Site', 'Payload', 'Payload_mass',\n",
    "       'Orbit', 'customer', 'Launch_Outcome', 'Booster_Landing']]\n",
    "data.head()"
   ]
  },
  {
   "cell_type": "code",
   "execution_count": 10,
   "metadata": {},
   "outputs": [
    {
     "name": "stdout",
     "output_type": "stream",
     "text": [
      "The code execution took 1.4772391319274902 seconds. This time doesn't include the time taken to load/import different required packages.\n"
     ]
    }
   ],
   "source": [
    "print(\"The code execution took\", time.time()-t0, \"seconds. This time doesn't include the time taken to load/import different required packages.\")"
   ]
  },
  {
   "cell_type": "code",
   "execution_count": 11,
   "metadata": {},
   "outputs": [
    {
     "name": "stdout",
     "output_type": "stream",
     "text": [
      "The scrapped dataframe contains 132 number of rows and 10 number of columns.\n"
     ]
    }
   ],
   "source": [
    "print(\"The scrapped dataframe contains\", data.shape[0], \"number of rows and\", data.shape[1], \"number of columns.\")"
   ]
  },
  {
   "cell_type": "markdown",
   "metadata": {},
   "source": [
    "The extracted dataset isn't in the tidy format. \n",
    "\n",
    "Various data wrangling techniques need to be employed (e.g., using regex expressions to keep only the useful strings, as well as performing the one-hot encoding to different columns)"
   ]
  },
  {
   "cell_type": "markdown",
   "metadata": {},
   "source": [
    "## Authors\n"
   ]
  },
  {
   "cell_type": "markdown",
   "metadata": {},
   "source": [
    "<a href=\"https://www.linkedin.com/in/yan-luo-96288783/?utm_medium=Exinfluencer&utm_source=Exinfluencer&utm_content=000026UJ&utm_term=10006555&utm_id=NA-SkillsNetwork-Channel-SkillsNetworkCoursesIBMDS0321ENSkillsNetwork26802033-2021-01-01\">Yan Luo</a>\n"
   ]
  },
  {
   "cell_type": "markdown",
   "metadata": {},
   "source": [
    "<a href=\"https://www.linkedin.com/in/nayefaboutayoun/?utm_medium=Exinfluencer&utm_source=Exinfluencer&utm_content=000026UJ&utm_term=10006555&utm_id=NA-SkillsNetwork-Channel-SkillsNetworkCoursesIBMDS0321ENSkillsNetwork26802033-2021-01-01\">Nayef Abou Tayoun</a>\n"
   ]
  },
  {
   "cell_type": "markdown",
   "metadata": {},
   "source": [
    "## Change Log\n"
   ]
  },
  {
   "cell_type": "markdown",
   "metadata": {},
   "source": [
    "| Date (YYYY-MM-DD) | Version | Changed By | Change Description          |\n",
    "| ----------------- | ------- | ---------- | --------------------------- |\n",
    "| 2021-06-09        | 1.0     | Yan Luo    | Tasks updates               |\n",
    "| 2020-11-10        | 1.0     | Nayef      | Created the initial version |\n"
   ]
  },
  {
   "cell_type": "markdown",
   "metadata": {},
   "source": [
    "Copyright © 2021 IBM Corporation. All rights reserved.\n"
   ]
  }
 ],
 "metadata": {
  "kernelspec": {
   "display_name": "Python 3 (ipykernel)",
   "language": "python",
   "name": "python3"
  },
  "language_info": {
   "codemirror_mode": {
    "name": "ipython",
    "version": 3
   },
   "file_extension": ".py",
   "mimetype": "text/x-python",
   "name": "python",
   "nbconvert_exporter": "python",
   "pygments_lexer": "ipython3",
   "version": "3.10.2"
  }
 },
 "nbformat": 4,
 "nbformat_minor": 4
}
